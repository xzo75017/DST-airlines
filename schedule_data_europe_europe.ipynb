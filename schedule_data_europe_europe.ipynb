{
  "nbformat": 4,
  "nbformat_minor": 0,
  "metadata": {
    "colab": {
      "provenance": []
    },
    "kernelspec": {
      "name": "python3",
      "display_name": "Python 3"
    },
    "language_info": {
      "name": "python"
    }
  },
  "cells": [
    {
      "cell_type": "code",
      "execution_count": 1,
      "metadata": {
        "id": "qum6uTPadfZ5"
      },
      "outputs": [],
      "source": [
        "import pandas as pd\n",
        "import numpy as np\n",
        "import requests\n",
        "from time import sleep\n",
        "import itertools\n",
        "import datetime\n",
        "from tqdm import tqdm\n",
        "from google.colab import drive"
      ]
    },
    {
      "cell_type": "code",
      "source": [
        "drive.mount('/content/drive')"
      ],
      "metadata": {
        "id": "D6aJXFAEdnYF",
        "colab": {
          "base_uri": "https://localhost:8080/"
        },
        "outputId": "e59f433a-d6b1-423f-cf31-7d3b4169323e"
      },
      "execution_count": 2,
      "outputs": [
        {
          "output_type": "stream",
          "name": "stdout",
          "text": [
            "Mounted at /content/drive\n"
          ]
        }
      ]
    },
    {
      "cell_type": "code",
      "source": [
        "def get_airports (Access_Token)  :\n",
        "    \n",
        "    #\n",
        "    authentification = {}\n",
        "    authentification[\"Authorization\"] = \"Bearer \" + Access_Token\n",
        "    \n",
        "    #\n",
        "    df_list = []\n",
        "    offset_list = list(range(0,1500,100))\n",
        "    offset_list[offset_list.index(100)]= 170\n",
        "    offset_list[offset_list.index(1000)]= 1005\n",
        "    \n",
        "    for i in offset_list:\n",
        "        sleep(0.1)\n",
        "        reponse = requests.get((\"https://api.lufthansa.com/v1/mds-references/airports/?lang=AN&limit=100&offset={offset}&LHoperated=1\").format(offset = i), headers = authentification).json()\n",
        "        df_list.append(pd.DataFrame(reponse['AirportResource']['Airports']['Airport']))\n",
        "\n",
        "    df = pd.concat(df_list)  \n",
        "    df = df.reset_index(drop=True) \n",
        "\n",
        "    for i in range(len(df)):\n",
        "        airport_name = df.loc[i, \"Names\"].get(\"Name\", {}).get(\"$\",)\n",
        "        df.loc[i, \"Names\"] = airport_name\n",
        "\n",
        "\n",
        "        latitude = df.loc[i, \"Position\"][\"Coordinate\"].get(\"Latitude\")\n",
        "        df.loc[i, \"Latitude\"] = latitude\n",
        "\n",
        "        longitude = df.loc[i, \"Position\"][\"Coordinate\"].get(\"Longitude\")\n",
        "        df.loc[i, \"Longitude\"] = longitude\n",
        "\n",
        "\n",
        "\n",
        "    Airports = df.drop(\"Position\", axis= 1).drop_duplicates().reset_index(drop=True)\n",
        "    \n",
        "    return Airports\n",
        "    "
      ],
      "metadata": {
        "id": "-AucVidSdo6p"
      },
      "execution_count": 3,
      "outputs": []
    },
    {
      "cell_type": "code",
      "source": [
        "airports = get_airports (\"8f6hdypb5qtaqfdarwuc27hr\")"
      ],
      "metadata": {
        "id": "Bw2_CjpAdpg-"
      },
      "execution_count": 4,
      "outputs": []
    },
    {
      "cell_type": "code",
      "source": [
        "#airports.head()\n",
        "european_codes = [\"AL\", \"AD\", \"AT\", \"BY\", \"BE\", \"BA\", \"BG\", \"HR\", \"CY\", \"CZ\", \"DK\", \"EE\", \"FI\", \"FR\", \"DE\", \n",
        "                  \"GR\", \"HU\", \"IS\", \"IE\", \"IT\", \"XK\", \"LV\", \"LI\", \"LT\", \"LU\", \"MK\", \"MT\", \"MD\", \"MC\", \"ME\", \n",
        "                  \"NL\", \"NO\", \"PL\", \"PT\", \"RO\", \"RU\", \"SM\", \"RS\", \"SK\", \"SI\", \"ES\", \"SE\", \"CH\", \"UA\", \"GB\"]\n",
        "europe = airports[airports['CountryCode'].isin(european_codes)].reset_index(drop=True)[\"AirportCode\"]"
      ],
      "metadata": {
        "id": "Q2WYgsD4dqgR"
      },
      "execution_count": 5,
      "outputs": []
    },
    {
      "cell_type": "code",
      "source": [
        "origins = europe\n",
        "destinations = europe\n",
        "\n",
        "start_date = [\"2023-04-26\"]\n",
        "num_days = 1\n",
        "\n"
      ],
      "metadata": {
        "id": "3J0qykFKd0cl"
      },
      "execution_count": 6,
      "outputs": []
    },
    {
      "cell_type": "code",
      "source": [
        "import numpy as np\n",
        "\n",
        "combinations = list(itertools.product(origins, destinations, start_date))\n",
        "\n",
        "np.random.seed(123)\n",
        "\n",
        "ousmane , abdoul , abdel = np.array_split(np.random.permutation(combinations), 3)\n"
      ],
      "metadata": {
        "id": "oP6CPnvAd0y1"
      },
      "execution_count": 7,
      "outputs": []
    },
    {
      "cell_type": "code",
      "source": [
        "from tqdm import tqdm\n",
        "\n",
        "def get_flight_schedules(Access_Token, combinaisons):\n",
        "    \n",
        "    authentification = {}\n",
        "    authentification[\"Authorization\"] = \"Bearer \" + Access_Token\n",
        "\n",
        "    df_list = []\n",
        "    counter = 0\n",
        "\n",
        "    for combination in tqdm(combinaisons):  \n",
        "        try:\n",
        "            response = requests.get(\n",
        "                (\"https://api.lufthansa.com/v1/operations/schedules/{origin}/{destination}/{date}\"\n",
        "                 \"?directFlights=0&limit=100&offset=0\"\n",
        "                ).format(origin = combination[0], destination = combination[1], date = combination[2]),\n",
        "                headers=authentification).json()\n",
        "\n",
        "            for element in response['ScheduleResource']['Schedule']:\n",
        "                for flight in element.get('Flight', []):\n",
        "                    departure = flight.get('Departure', {})\n",
        "                    arrival = flight.get('Arrival', {})\n",
        "                    carrier = flight.get('MarketingCarrier', {})\n",
        "                    equipment = flight.get('Equipment', {})\n",
        "                    details = flight.get('Details', {})\n",
        "\n",
        "                    df = pd.DataFrame({\n",
        "                          'DepAirportCode': departure.get('AirportCode'),\n",
        "                          'DepScheduledTimeLocal': departure.get('ScheduledTimeLocal', {}).get('DateTime'),\n",
        "                          'ArrAirportCode': arrival.get('AirportCode'),\n",
        "                          'ArrScheduledTimeLocal': arrival.get('ScheduledTimeLocal', {}).get('DateTime'),\n",
        "                          'Terminal': arrival.get('Terminal', {}).get('Name'),\n",
        "                          'AirlineID': carrier.get('AirlineID'),\n",
        "                          'FlightNumber': carrier.get('FlightNumber'),\n",
        "                          'AircraftCode': equipment.get('AircraftCode'),\n",
        "                          'DaysOfOperation' : details.get('DaysOfOperation',),\n",
        "                          'Effective' : details.get('DatePeriod',).get('Effective'),\n",
        "                          'Expiration' : details.get('DatePeriod',).get('Expiration')                  \n",
        "                      }, index=[0])\n",
        "\n",
        "                    df_list.append(df[df['AirlineID'] == \"LH\"].reset_index(drop=True))\n",
        "\n",
        "            counter += 1\n",
        "\n",
        "            # Pause de 0,2 seconde toutes les 5 requetes\n",
        "            if counter % 5 == 0:\n",
        "                time.sleep(0.2)\n",
        "\n",
        "        except:\n",
        "            continue\n",
        "\n",
        "    FlightSchedules = pd.concat(df_list).drop_duplicates().reset_index(drop=True)\n",
        "    FlightSchedules.insert(0, \"FlightScheduleID\" , FlightSchedules.index+1)\n",
        "    \n",
        "    return FlightSchedules"
      ],
      "metadata": {
        "id": "ZFSFA1ayd1Fe"
      },
      "execution_count": 8,
      "outputs": []
    },
    {
      "cell_type": "code",
      "source": [
        "df = df = get_flight_schedules(Access_Token, prenom)\n",
        "df.to_csv(\"/content/drive/MyDrive/europe_europe.csv\", index=False)"
      ],
      "metadata": {
        "id": "mExYoJa5d1W4"
      },
      "execution_count": null,
      "outputs": []
    }
  ]
}