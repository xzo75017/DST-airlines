{
  "nbformat": 4,
  "nbformat_minor": 0,
  "metadata": {
    "colab": {
      "provenance": []
    },
    "kernelspec": {
      "name": "python3",
      "display_name": "Python 3"
    },
    "language_info": {
      "name": "python"
    }
  },
  "cells": [
    {
      "cell_type": "code",
      "execution_count": null,
      "metadata": {
        "id": "TEiIuzTfJ4Sj"
      },
      "outputs": [],
      "source": [
        "pip install ratelimiter"
      ]
    },
    {
      "cell_type": "code",
      "source": [
        "import pandas as pd\n",
        "import numpy as np\n",
        "import requests\n",
        "from time import sleep\n",
        "import datetime\n",
        "from ratelimiter import RateLimiter\n",
        "from google.colab import drive"
      ],
      "metadata": {
        "id": "RolwJfMfJ84k"
      },
      "execution_count": null,
      "outputs": []
    },
    {
      "cell_type": "code",
      "source": [
        "from google.colab import drive\n",
        "drive.mount('/content/drive')"
      ],
      "metadata": {
        "id": "PPwv7Si8J_vV"
      },
      "execution_count": null,
      "outputs": []
    },
    {
      "cell_type": "code",
      "source": [
        "#creation de la liste earoports europe dans lesquelles lufthansa opère\n",
        "airports = pd.read_csv(\"airports.csv\", sep = \";\")\n",
        "airports[\"Continent\"] = airports[\"TimeZoneId\"].apply(lambda x : x.split(\"/\")[0])\n",
        "europe = airports[airports['Continent']== \"Europe\"].reset_index(drop=True)[\"AirportCode\"]"
      ],
      "metadata": {
        "id": "XLwp3bk3KCWD"
      },
      "execution_count": null,
      "outputs": []
    },
    {
      "cell_type": "code",
      "source": [
        "#creation des listes individuels \n",
        "np.random.seed(123)\n",
        "\n",
        "ousmane , abdoul , abdel = np.array_split(np.random.permutation(europe), 3)"
      ],
      "metadata": {
        "id": "h_M8zkcEKF6K"
      },
      "execution_count": null,
      "outputs": []
    },
    {
      "cell_type": "code",
      "source": [
        "#collecte de flight_information\n",
        "def get_flight_information(origins, date, access_tokens):\n",
        "    flights = []\n",
        "\n",
        "    rate_limiter = RateLimiter(max_calls=4, period=1)  # 4 requêtes par seconde\n",
        "    api_key_index = 0\n",
        "    requests_count = 0\n",
        "\n",
        "    for origin in origins:\n",
        "        for hour in range(24):\n",
        "            for minute in [\"00\", \"30\"]:\n",
        "                with rate_limiter:\n",
        "                    if requests_count >= 750:\n",
        "                        print(f\"Changement de clé API : utilisation de la clé {api_key_index + 1}\") \n",
        "                        api_key_index += 1\n",
        "                        requests_count = 0\n",
        "                        if api_key_index >= len(access_tokens):\n",
        "                            print(\"Toutes les clés API ont atteint la limite de requêtes.\")\n",
        "                            return pd.DataFrame.from_dict(flights).drop_duplicates().reset_index(drop=True)\n",
        "\n",
        "                    time_str = f\"{hour:02d}:{minute}\"\n",
        "                    datetime = f\"{date}T{time_str}\"\n",
        "                    \n",
        "                    authentification = {\"Authorization\": \"Bearer \" + access_tokens[api_key_index]}\n",
        "\n",
        "                    try:\n",
        "                        response = requests.get(\n",
        "                            (\"https://api.lufthansa.com/v1/operations/customerflightinformation/departures/{origin}/{datetime}\"\n",
        "                             \"?limit=100&offset=0\"\n",
        "                            ).format(origin=origin, datetime=datetime),\n",
        "                            headers=authentification).json()\n",
        "\n",
        "                        for flight in response['FlightInformation']['Flights']['Flight']:\n",
        "                            # Extraction des données du vol \n",
        "                            departure = flight.get('Departure', {})\n",
        "                            arrival = flight.get('Arrival',{})\n",
        "                            operatingCarrier = flight.get('OperatingCarrier')\n",
        "                            equipment = flight.get('Equipment')\n",
        "                            status = flight.get('Status')\n",
        "\n",
        "\n",
        "                            row = {\n",
        "                                'DpAirportCode': departure.get('AirportCode'),\n",
        "                                'DpScheduledDate': departure.get('Scheduled', {}).get('Date'),\n",
        "                                'DpScheduledTime': departure.get('Scheduled', {}).get('Time'),\n",
        "                                'DpActualDate': departure.get('Actual', {}).get('Date'),\n",
        "                                'DpActualTime': departure.get('Actual', {}).get('Time'),\n",
        "                                'DpTerminalName': departure.get('Terminal', {}).get('Name'),\n",
        "                                'DpTerminalGate': departure.get('Terminal', {}).get('Gate'),\n",
        "                                'DpStatusCode': departure.get('Status', {}).get('Code'),\n",
        "                                'DPStatusDescription': departure.get('Status', {}).get('Description'),\n",
        "                                'ArrAirportCode':arrival.get('AirportCode', {}),\n",
        "                                'ArrScheduledDate': arrival.get('Scheduled', {}).get('Date'),\n",
        "                                'ArrpScheduledTime': arrival.get('Scheduled', {}).get('Time'),\n",
        "                                'ArrActualDate':arrival.get('Actual', {}).get('Date'),\n",
        "                                'ArrActualTime':arrival.get('Actual', {}).get('Time'),\n",
        "                                'ArrTerminalName':arrival.get('Terminal', {}).get('Name'),\n",
        "                                'ArrTerminalGate':arrival.get('Terminal', {}).get('Gate'),\n",
        "                                'ArrStatusCode': arrival.get('Status', {}).get('Code'),\n",
        "                                'ArrStatusDescription': arrival.get('Status', {}).get('Description'),                             \n",
        "                                'AirlineID': operatingCarrier.get('AirlineID'),\n",
        "                                'FlightNumber': operatingCarrier.get('FlightNumber'),\n",
        "                                'AircraftCode': equipment.get('AircraftCode'),\n",
        "                                'StatusCode' : status.get('Code'),\n",
        "                                'StatusDescription' : status.get('Description')\n",
        "\n",
        "                            }\n",
        "\n",
        "                            flights.append(row)\n",
        "\n",
        "                        requests_count += 1\n",
        "\n",
        "                    except Exception as e:\n",
        "                        print(f\"Error for origin {origin}, time {time_str}: {e}\")\n",
        "\n",
        "    flight_information_departures = pd.DataFrame.from_dict(flights).reset_index(drop = True)\n",
        "    flight_information_departures = flight_information_departures.drop_duplicates().reset_index(drop = True)\n",
        "    flight_information_departures.insert(0, 'FlightId', flight_information_departures['AirlineID'] + flight_information_departures['FlightNumber'].astype(str))\n",
        "    return flight_information_departures\n",
        "\n",
        "access_tokens = [\"dgwt2cn2z9d39qwae7ehxmen\", \"apj5gpxj9c9ut9up6g68gsxs\",\n",
        "                 \"5a5zsvd83ym6nb4mz47ddjds\", \"s7j65m93x5ap6ne7qfk4dkva\",\n",
        "                 \"4hv9m2n4epq83z7j3g5j8ne8\", \"mucjtvh5vnbvuhpsktepesns\",\n",
        "                 \"ztwk3etpxtvbnzmq5ex7vq8t\", \"fvzvx8ksbyrvgz4xnyzd8qtk\",]\n",
        "\n",
        "origins = [\"LHR\",\"CDG\",\"AMS\",\"FRA\",\"MAD\",\"BCN\",\"MUC\",\"LGW\",\"FCO\",\"DUB\",\"ORY\"]\n",
        "date = \"2023-05-17\"\n",
        "\n",
        "flight_information_departures = get_flight_information_departures(origins, date, access_tokens)\n",
        "flight_information_departures.to_csv(\"/content/drive/MyDrive/flight_information.csv\", sep = \";\", index=False)\n",
        "display(flight_information_departures)\n"
      ],
      "metadata": {
        "id": "1jmKdyLNKf5s"
      },
      "execution_count": null,
      "outputs": []
    }
  ]
}